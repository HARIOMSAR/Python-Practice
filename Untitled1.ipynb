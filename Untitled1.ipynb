{
 "cells": [
  {
   "cell_type": "code",
   "execution_count": 1,
   "id": "d63062ac-0a7d-4e05-a7a8-120169315ece",
   "metadata": {},
   "outputs": [
    {
     "name": "stdout",
     "output_type": "stream",
     "text": [
      "even\n"
     ]
    }
   ],
   "source": [
    "num=24\n",
    "if num%2==0:\n",
    "    print('even')\n",
    "else:\n",
    "    print('odd')"
   ]
  },
  {
   "cell_type": "code",
   "execution_count": 2,
   "id": "4b665856-67dc-446b-bf91-6285d6c22fbf",
   "metadata": {},
   "outputs": [],
   "source": [
    "def even_odd(num):\n",
    "    if num%2==0:\n",
    "        print('even')\n",
    "    else:\n",
    "        print('odd')"
   ]
  },
  {
   "cell_type": "code",
   "execution_count": 4,
   "id": "e61f12b8-20a4-46a1-94e7-b61d7a529219",
   "metadata": {},
   "outputs": [
    {
     "name": "stdout",
     "output_type": "stream",
     "text": [
      "odd\n"
     ]
    }
   ],
   "source": [
    "even_odd(54515)"
   ]
  },
  {
   "cell_type": "code",
   "execution_count": 5,
   "id": "ca011030-65ef-4185-97b2-0435d3ed6ecf",
   "metadata": {},
   "outputs": [],
   "source": [
    "def hello_world():\n",
    "    print('hello world')"
   ]
  },
  {
   "cell_type": "code",
   "execution_count": 6,
   "id": "93f9dc9c-a991-49d7-9efc-2291122259e3",
   "metadata": {},
   "outputs": [
    {
     "name": "stdout",
     "output_type": "stream",
     "text": [
      "hello world\n"
     ]
    }
   ],
   "source": [
    "hello_world()"
   ]
  },
  {
   "cell_type": "code",
   "execution_count": 7,
   "id": "d4f52a55-d4f5-4210-b43b-11e7b331a2d2",
   "metadata": {},
   "outputs": [
    {
     "name": "stdout",
     "output_type": "stream",
     "text": [
      "hello world\n"
     ]
    }
   ],
   "source": [
    "var=hello_world()\n",
    "print=(var)"
   ]
  },
  {
   "cell_type": "code",
   "execution_count": 8,
   "id": "556a1248-ff2a-44fe-b494-791a5e179308",
   "metadata": {},
   "outputs": [],
   "source": [
    "def add(num1,num2):\n",
    "    return num1+num2"
   ]
  },
  {
   "cell_type": "code",
   "execution_count": 9,
   "id": "023d4d87-ce48-4c8e-b01e-0dadd000cfa1",
   "metadata": {},
   "outputs": [
    {
     "data": {
      "text/plain": [
       "60"
      ]
     },
     "execution_count": 9,
     "metadata": {},
     "output_type": "execute_result"
    }
   ],
   "source": [
    "add(55,5)"
   ]
  },
  {
   "cell_type": "code",
   "execution_count": 42,
   "id": "8c013a4a-591d-401d-ad65-3cd2e276ff2b",
   "metadata": {},
   "outputs": [],
   "source": [
    "def hello(name,age):\n",
    "    return \"my name is\" ,name + \"and age is\" ,age"
   ]
  },
  {
   "cell_type": "code",
   "execution_count": 43,
   "id": "8b651a08-17bc-4463-9c19-45f376f051dc",
   "metadata": {},
   "outputs": [
    {
     "data": {
      "text/plain": [
       "('my name is', 'tamand age is', 23)"
      ]
     },
     "execution_count": 43,
     "metadata": {},
     "output_type": "execute_result"
    }
   ],
   "source": [
    "hello(\"tam\",23)"
   ]
  },
  {
   "cell_type": "code",
   "execution_count": 40,
   "id": "8f6283c9-5232-4b49-995d-9d831967263d",
   "metadata": {},
   "outputs": [],
   "source": [
    "def hello(*args,**kwargs):\n",
    "    return(args,kwargs)"
   ]
  },
  {
   "cell_type": "code",
   "execution_count": 41,
   "id": "aa343770-3e8e-4b68-94ac-d05ecacf4b9b",
   "metadata": {},
   "outputs": [
    {
     "data": {
      "text/plain": [
       "(('har', 'har'), {'age': 29, 'dob': 1990})"
      ]
     },
     "execution_count": 41,
     "metadata": {},
     "output_type": "execute_result"
    }
   ],
   "source": [
    "hello(\"har\",\"har\",age=29,dob=1990)"
   ]
  },
  {
   "cell_type": "code",
   "execution_count": 44,
   "id": "23d2de88-ed16-4202-8aca-3c9ca978ac33",
   "metadata": {},
   "outputs": [],
   "source": [
    "add=lambda a,b:a+b"
   ]
  },
  {
   "cell_type": "code",
   "execution_count": 45,
   "id": "ea129dff-ec47-41e0-98d7-b877c18dad01",
   "metadata": {},
   "outputs": [
    {
     "data": {
      "text/plain": [
       "9"
      ]
     },
     "execution_count": 45,
     "metadata": {},
     "output_type": "execute_result"
    }
   ],
   "source": [
    "add(4,5)"
   ]
  },
  {
   "cell_type": "code",
   "execution_count": 46,
   "id": "4785f956-5509-4050-8daa-26d96a705a2f",
   "metadata": {},
   "outputs": [],
   "source": [
    "even= lambda num:num%2==0"
   ]
  },
  {
   "cell_type": "code",
   "execution_count": 47,
   "id": "0a384662-e92c-4c1b-8fed-b62f1d7e9293",
   "metadata": {},
   "outputs": [
    {
     "data": {
      "text/plain": [
       "False"
      ]
     },
     "execution_count": 47,
     "metadata": {},
     "output_type": "execute_result"
    }
   ],
   "source": [
    "even(13)"
   ]
  },
  {
   "cell_type": "code",
   "execution_count": 48,
   "id": "3cfc7d34-d967-4552-8c05-109ad51f580b",
   "metadata": {},
   "outputs": [
    {
     "data": {
      "text/plain": [
       "True"
      ]
     },
     "execution_count": 48,
     "metadata": {},
     "output_type": "execute_result"
    }
   ],
   "source": [
    "even(12)"
   ]
  },
  {
   "cell_type": "code",
   "execution_count": 1,
   "id": "69497d00-ce20-4576-ac83-79dd568915f0",
   "metadata": {},
   "outputs": [],
   "source": [
    "def even_odd(num):\n",
    "    if num%2==0:\n",
    "        return \"even\"\n",
    "    else:\n",
    "        return \"odd\""
   ]
  },
  {
   "cell_type": "code",
   "execution_count": 2,
   "id": "f932ef1f-1020-4697-9206-2d50da69183a",
   "metadata": {},
   "outputs": [
    {
     "data": {
      "text/plain": [
       "'even'"
      ]
     },
     "execution_count": 2,
     "metadata": {},
     "output_type": "execute_result"
    }
   ],
   "source": [
    "even_odd(24)"
   ]
  },
  {
   "cell_type": "code",
   "execution_count": 5,
   "id": "030c1ded-35c4-41dc-848c-32c07c41e33a",
   "metadata": {},
   "outputs": [],
   "source": [
    "lst=[1,2,3,5,6,8,6,5,4,55,445,454]"
   ]
  },
  {
   "cell_type": "code",
   "execution_count": 6,
   "id": "3cef3144-a5c3-405d-b96b-e68ccc36b4be",
   "metadata": {},
   "outputs": [
    {
     "data": {
      "text/plain": [
       "['odd',\n",
       " 'even',\n",
       " 'odd',\n",
       " 'odd',\n",
       " 'even',\n",
       " 'even',\n",
       " 'even',\n",
       " 'odd',\n",
       " 'even',\n",
       " 'odd',\n",
       " 'odd',\n",
       " 'even']"
      ]
     },
     "execution_count": 6,
     "metadata": {},
     "output_type": "execute_result"
    }
   ],
   "source": [
    "list(map(even_odd,lst))"
   ]
  },
  {
   "cell_type": "code",
   "execution_count": 7,
   "id": "32c0e89c-65e4-4d96-8bd3-2f9235a09807",
   "metadata": {},
   "outputs": [],
   "source": [
    "def even(num):\n",
    "    if num%2==0:\n",
    "        return True \n",
    "    "
   ]
  },
  {
   "cell_type": "code",
   "execution_count": 8,
   "id": "ecbc957b-8151-4ae4-80d5-56a3eee64583",
   "metadata": {},
   "outputs": [],
   "source": [
    "lst=[1,2,3,4,5,6,7,8,9,0]"
   ]
  },
  {
   "cell_type": "code",
   "execution_count": 9,
   "id": "3eda7f94-adc8-43c3-aeb6-e126644609eb",
   "metadata": {},
   "outputs": [
    {
     "data": {
      "text/plain": [
       "[2, 4, 6, 8, 0]"
      ]
     },
     "execution_count": 9,
     "metadata": {},
     "output_type": "execute_result"
    }
   ],
   "source": [
    "list(filter(even,lst))"
   ]
  },
  {
   "cell_type": "code",
   "execution_count": 10,
   "id": "4f2a3ad9-cc65-4c1d-9f6a-a3c49dccdac0",
   "metadata": {},
   "outputs": [
    {
     "data": {
      "text/plain": [
       "[2, 4, 6, 8, 0]"
      ]
     },
     "execution_count": 10,
     "metadata": {},
     "output_type": "execute_result"
    }
   ],
   "source": [
    "list(filter(lambda num:num%2==0,lst))"
   ]
  },
  {
   "cell_type": "code",
   "execution_count": 15,
   "id": "59e0546c-f305-4f20-b992-d1ca4fdf5e28",
   "metadata": {},
   "outputs": [],
   "source": [
    "lst1=[]\n",
    "def lst_sqr(lst):\n",
    "    for  i in lst:\n",
    "        lst1.append(i*i)\n",
    "    return lst1"
   ]
  },
  {
   "cell_type": "code",
   "execution_count": 16,
   "id": "616ecc59-2cae-4f54-8f76-7dc5ea818275",
   "metadata": {},
   "outputs": [
    {
     "data": {
      "text/plain": [
       "[1, 4, 9, 16, 25, 36]"
      ]
     },
     "execution_count": 16,
     "metadata": {},
     "output_type": "execute_result"
    }
   ],
   "source": [
    "lst_sqr([1,2,3,4,5,6])"
   ]
  },
  {
   "cell_type": "code",
   "execution_count": 17,
   "id": "74a394b7-b8da-4230-beff-c7841193c8e1",
   "metadata": {},
   "outputs": [
    {
     "data": {
      "text/plain": [
       "[1, 4, 9, 16, 25]"
      ]
     },
     "execution_count": 17,
     "metadata": {},
     "output_type": "execute_result"
    }
   ],
   "source": [
    "lst=[1,2,3,4,5]\n",
    "[i*i for i in lst]"
   ]
  },
  {
   "cell_type": "code",
   "execution_count": 18,
   "id": "c5896475-8b11-4a4e-85cd-ee987819b2b2",
   "metadata": {},
   "outputs": [
    {
     "data": {
      "text/plain": [
       "[4, 16]"
      ]
     },
     "execution_count": 18,
     "metadata": {},
     "output_type": "execute_result"
    }
   ],
   "source": [
    "[i*i  for i in lst if i%2==0]"
   ]
  },
  {
   "cell_type": "code",
   "execution_count": 25,
   "id": "77b246b9-fe31-41ea-b4b0-ebbebd476fdf",
   "metadata": {},
   "outputs": [
    {
     "data": {
      "text/plain": [
       "'hello hariom.welcome to mor'"
      ]
     },
     "execution_count": 25,
     "metadata": {},
     "output_type": "execute_result"
    }
   ],
   "source": [
    "def hello(name):\n",
    "    return \"hello {}.welcome to mor\".format(name)\n",
    "hello(\"hariom\")"
   ]
  },
  {
   "cell_type": "code",
   "execution_count": 2,
   "id": "181bae6f-4475-4431-bf37-d7c7007a1a9c",
   "metadata": {},
   "outputs": [],
   "source": [
    "def greeting(name,age):\n",
    "    return \"hello {},your age is {}\".format(name,age)"
   ]
  },
  {
   "cell_type": "code",
   "execution_count": 3,
   "id": "4d3fc1ca-5853-4590-80be-1720d651f008",
   "metadata": {},
   "outputs": [
    {
     "data": {
      "text/plain": [
       "'hello ram,your age is 22'"
      ]
     },
     "execution_count": 3,
     "metadata": {},
     "output_type": "execute_result"
    }
   ],
   "source": [
    "greeting(\"ram\",22)"
   ]
  },
  {
   "cell_type": "code",
   "execution_count": 5,
   "id": "3717bea6-60d3-4617-90fc-ed6b0b097a7e",
   "metadata": {},
   "outputs": [
    {
     "name": "stdout",
     "output_type": "stream",
     "text": [
      "1\n",
      "2\n",
      "3\n",
      "4\n",
      "5\n",
      "6\n",
      "7\n"
     ]
    }
   ],
   "source": [
    "lst=[1,2,3,4,5,6,7]\n",
    "for i in lst:\n",
    "    print(i)"
   ]
  },
  {
   "cell_type": "code",
   "execution_count": 18,
   "id": "de31cc75-f72f-47e4-8ced-8cac6957dcfe",
   "metadata": {},
   "outputs": [],
   "source": [
    "lst1=iter(lst)"
   ]
  },
  {
   "cell_type": "code",
   "execution_count": 19,
   "id": "91239ea0-e5f7-400b-a6fa-861717ed0be1",
   "metadata": {},
   "outputs": [
    {
     "data": {
      "text/plain": [
       "<list_iterator at 0x20a8ec0cf70>"
      ]
     },
     "execution_count": 19,
     "metadata": {},
     "output_type": "execute_result"
    }
   ],
   "source": [
    "lst1"
   ]
  },
  {
   "cell_type": "code",
   "execution_count": 20,
   "id": "d09af63e-6e94-4fff-a12a-abf89ff60d27",
   "metadata": {},
   "outputs": [
    {
     "data": {
      "text/plain": [
       "1"
      ]
     },
     "execution_count": 20,
     "metadata": {},
     "output_type": "execute_result"
    }
   ],
   "source": [
    "next(lst1)"
   ]
  },
  {
   "cell_type": "code",
   "execution_count": 21,
   "id": "e51d1d3e-8527-45cc-a7c5-0dddc738a517",
   "metadata": {},
   "outputs": [
    {
     "data": {
      "text/plain": [
       "2"
      ]
     },
     "execution_count": 21,
     "metadata": {},
     "output_type": "execute_result"
    }
   ],
   "source": [
    "next(lst1)"
   ]
  },
  {
   "cell_type": "code",
   "execution_count": 23,
   "id": "c0fc7be0-3d50-4b15-9e38-758597c09f8e",
   "metadata": {},
   "outputs": [
    {
     "name": "stdout",
     "output_type": "stream",
     "text": [
      "3\n",
      "4\n",
      "5\n",
      "6\n",
      "7\n"
     ]
    }
   ],
   "source": [
    "for i in lst1:\n",
    "    print(i)"
   ]
  },
  {
   "cell_type": "code",
   "execution_count": 30,
   "id": "5ac38387-c13a-48c4-bd2c-6f8455e0f574",
   "metadata": {},
   "outputs": [],
   "source": [
    "class car:\n",
    "    pass"
   ]
  },
  {
   "cell_type": "code",
   "execution_count": 32,
   "id": "e520492b-f011-4229-9bf1-33be1dccd9b4",
   "metadata": {},
   "outputs": [],
   "source": [
    "car1=car()"
   ]
  },
  {
   "cell_type": "code",
   "execution_count": 34,
   "id": "7bd91ae9-ec2e-4022-a605-2738ec43d853",
   "metadata": {},
   "outputs": [
    {
     "data": {
      "text/plain": [
       "<__main__.car at 0x20a8ed14280>"
      ]
     },
     "execution_count": 34,
     "metadata": {},
     "output_type": "execute_result"
    }
   ],
   "source": [
    "car1"
   ]
  },
  {
   "cell_type": "code",
   "execution_count": 37,
   "id": "e046fb1c-609c-4d83-8367-f9f5b2929220",
   "metadata": {},
   "outputs": [],
   "source": [
    "car1.windows=5\n",
    "car1.doors=4"
   ]
  },
  {
   "cell_type": "code",
   "execution_count": 38,
   "id": "43e4ed34-6865-4952-916c-eceba794040e",
   "metadata": {},
   "outputs": [
    {
     "name": "stdout",
     "output_type": "stream",
     "text": [
      "5\n"
     ]
    }
   ],
   "source": [
    "print(car1.windows)"
   ]
  },
  {
   "cell_type": "code",
   "execution_count": 39,
   "id": "9bbc3666-2742-4aaf-b3fe-1264922bd8c4",
   "metadata": {},
   "outputs": [],
   "source": [
    "car2=car()"
   ]
  },
  {
   "cell_type": "code",
   "execution_count": 40,
   "id": "4898fa39-24d6-41b2-9112-c7e8d31c872a",
   "metadata": {},
   "outputs": [],
   "source": [
    "car2.windows=3\n",
    "car2.doors=2"
   ]
  },
  {
   "cell_type": "code",
   "execution_count": 42,
   "id": "43e8e1e7-15eb-4965-83f4-a3b873b855da",
   "metadata": {},
   "outputs": [
    {
     "name": "stdout",
     "output_type": "stream",
     "text": [
      "2\n"
     ]
    }
   ],
   "source": [
    "print(car2.doors)"
   ]
  },
  {
   "cell_type": "code",
   "execution_count": 43,
   "id": "e2f8d1aa-aaf2-4dd8-b6d6-46c5cf2741a9",
   "metadata": {},
   "outputs": [],
   "source": [
    "car2.engine=\"petrol\""
   ]
  },
  {
   "cell_type": "code",
   "execution_count": 44,
   "id": "19130a22-5a8a-4a7e-bd14-aa07f8b2a885",
   "metadata": {},
   "outputs": [
    {
     "name": "stdout",
     "output_type": "stream",
     "text": [
      "petrol\n"
     ]
    }
   ],
   "source": [
    "print(car2.engine)"
   ]
  },
  {
   "cell_type": "code",
   "execution_count": 52,
   "id": "46964d6f-0f13-4fdf-8d85-8f86febb79fd",
   "metadata": {},
   "outputs": [],
   "source": [
    "class car:\n",
    "    def  __init__(self,window,door,engine):\n",
    "        self.windows=window\n",
    "        self.doors=door\n",
    "        self.engine_type=engine\n",
    "    def drive(self):\n",
    "        return \"this is a {} car\".format(self.engine_type)"
   ]
  },
  {
   "cell_type": "code",
   "execution_count": 54,
   "id": "2a9bee72-1732-43d7-a800-45bdb14a0406",
   "metadata": {},
   "outputs": [],
   "source": [
    "car1=car(4,5,\"petrol\")"
   ]
  },
  {
   "cell_type": "code",
   "execution_count": 55,
   "id": "81e78488-4802-4fe8-abf1-267912b39aec",
   "metadata": {},
   "outputs": [],
   "source": [
    "car2=car(3,4,\"diesel\")"
   ]
  },
  {
   "cell_type": "code",
   "execution_count": 50,
   "id": "bbe18f15-97cf-42db-82ef-0c1d76f26123",
   "metadata": {},
   "outputs": [
    {
     "name": "stdout",
     "output_type": "stream",
     "text": [
      "4\n"
     ]
    }
   ],
   "source": [
    "print(car1.windows)"
   ]
  },
  {
   "cell_type": "code",
   "execution_count": 56,
   "id": "5c137bd8-99c8-4907-a808-1ad6938b065b",
   "metadata": {},
   "outputs": [
    {
     "data": {
      "text/plain": [
       "'this is a diesel car'"
      ]
     },
     "execution_count": 56,
     "metadata": {},
     "output_type": "execute_result"
    }
   ],
   "source": [
    "car2.drive()"
   ]
  },
  {
   "cell_type": "code",
   "execution_count": 47,
   "id": "fe3db71c-21fb-446d-9be1-143bb832ff11",
   "metadata": {},
   "outputs": [
    {
     "data": {
      "text/plain": [
       "<__main__.car at 0x20a8ed14910>"
      ]
     },
     "execution_count": 47,
     "metadata": {},
     "output_type": "execute_result"
    }
   ],
   "source": [
    "car1"
   ]
  },
  {
   "cell_type": "code",
   "execution_count": 51,
   "id": "44faf07b-e520-4c77-8051-d44173865336",
   "metadata": {},
   "outputs": [
    {
     "name": "stdout",
     "output_type": "stream",
     "text": [
      "diesel\n"
     ]
    }
   ],
   "source": [
    "print(car2.engine_type)"
   ]
  },
  {
   "cell_type": "code",
   "execution_count": 48,
   "id": "8e0ed5a5-3103-4178-8e5d-72944feb8045",
   "metadata": {},
   "outputs": [
    {
     "data": {
      "text/plain": [
       "['__class__',\n",
       " '__delattr__',\n",
       " '__dict__',\n",
       " '__dir__',\n",
       " '__doc__',\n",
       " '__eq__',\n",
       " '__format__',\n",
       " '__ge__',\n",
       " '__getattribute__',\n",
       " '__gt__',\n",
       " '__hash__',\n",
       " '__init__',\n",
       " '__init_subclass__',\n",
       " '__le__',\n",
       " '__lt__',\n",
       " '__module__',\n",
       " '__ne__',\n",
       " '__new__',\n",
       " '__reduce__',\n",
       " '__reduce_ex__',\n",
       " '__repr__',\n",
       " '__setattr__',\n",
       " '__sizeof__',\n",
       " '__str__',\n",
       " '__subclasshook__',\n",
       " '__weakref__',\n",
       " 'doors',\n",
       " 'engine_type',\n",
       " 'windows']"
      ]
     },
     "execution_count": 48,
     "metadata": {},
     "output_type": "execute_result"
    }
   ],
   "source": [
    "dir(car1)"
   ]
  },
  {
   "cell_type": "code",
   "execution_count": 60,
   "id": "2ec19aba-5ef1-4db5-b543-311f9fa53b35",
   "metadata": {},
   "outputs": [
    {
     "name": "stdout",
     "output_type": "stream",
     "text": [
      "some problem may have occured\n"
     ]
    }
   ],
   "source": [
    "try:\n",
    "    a=b\n",
    "except:\n",
    "    print(\"some problem may have occured\")"
   ]
  },
  {
   "cell_type": "code",
   "execution_count": 62,
   "id": "e76a43c8-8079-4cfd-a4fb-fc40dd061a4a",
   "metadata": {},
   "outputs": [
    {
     "name": "stdout",
     "output_type": "stream",
     "text": [
      "name 'b' is not defined\n"
     ]
    }
   ],
   "source": [
    "try:\n",
    "    a=b\n",
    "except Exception as ex:\n",
    "    print(ex)"
   ]
  },
  {
   "cell_type": "code",
   "execution_count": 64,
   "id": "34a3ec58-1950-4df8-a45c-a5c266536dfb",
   "metadata": {},
   "outputs": [
    {
     "name": "stdin",
     "output_type": "stream",
     "text": [
      "enter first number 12\n",
      "enter second number 4\n"
     ]
    },
    {
     "name": "stdout",
     "output_type": "stream",
     "text": [
      "3.0 48 16\n"
     ]
    }
   ],
   "source": [
    "try:\n",
    "    a=int(input(\"enter first number\"))\n",
    "    b=int(input(\"enter second number\"))\n",
    "    c=a/b\n",
    "    d=a*b\n",
    "    e=a+b\n",
    "except NameError:\n",
    "    print(\"the user have not defined the variable\")\n",
    "except TypeError:\n",
    "    print(\"please have similar datatype\")\n",
    "except ZeroDivisionError:\n",
    "    print(\"provide a non zero number\")\n",
    "except Exception as ex:\n",
    "    print(ex)\n",
    "else:\n",
    "    print(c,d,e)"
   ]
  },
  {
   "cell_type": "code",
   "execution_count": 65,
   "id": "89fa2171-b938-4209-93d4-1602d1535043",
   "metadata": {},
   "outputs": [],
   "source": [
    "class Error(Exception):\n",
    "    pass\n",
    "class dobException(Error):\n",
    "    pass\n"
   ]
  },
  {
   "cell_type": "code",
   "execution_count": 66,
   "id": "efb3c4ef-0c0a-46b8-aea4-059801e5ac78",
   "metadata": {},
   "outputs": [
    {
     "name": "stdin",
     "output_type": "stream",
     "text": [
      "enter year of birth 1980\n"
     ]
    },
    {
     "name": "stdout",
     "output_type": "stream",
     "text": [
      "outof range age \n"
     ]
    }
   ],
   "source": [
    "year=int(input(\"enter year of birth\"))\n",
    "age=2023-year\n",
    "try:\n",
    "    if age<=30 & age>20:\n",
    "        print(\"valid age\")\n",
    "    else:\n",
    "        raise dobException\n",
    "except dobException:\n",
    "    print(\"outof range age \")\n",
    "        \n",
    " \n",
    "\n"
   ]
  },
  {
   "cell_type": "code",
   "execution_count": 67,
   "id": "8e90adaa-0c05-4495-b045-e8d213c81f6c",
   "metadata": {},
   "outputs": [],
   "source": [
    "class car():\n",
    "    def __init__(self,window,door,engine):\n",
    "        self.windows=window\n",
    "        self.doors=door\n",
    "        self.enginetype=engine\n",
    "    "
   ]
  },
  {
   "cell_type": "code",
   "execution_count": 68,
   "id": "8db11b56-64fc-4634-aaa7-0894b9256a9a",
   "metadata": {},
   "outputs": [],
   "source": [
    "audi=car(4,5,\"petrol\")"
   ]
  },
  {
   "cell_type": "code",
   "execution_count": 72,
   "id": "455243c6-9d57-4b47-933f-0a06a93dbf0c",
   "metadata": {},
   "outputs": [
    {
     "data": {
      "text/plain": [
       "4"
      ]
     },
     "execution_count": 72,
     "metadata": {},
     "output_type": "execute_result"
    }
   ],
   "source": [
    "audi.windows"
   ]
  },
  {
   "cell_type": "code",
   "execution_count": 73,
   "id": "1f315133-4da4-48b2-82cd-020acd28c8be",
   "metadata": {},
   "outputs": [
    {
     "data": {
      "text/plain": [
       "<__main__.car at 0x20a8ed14be0>"
      ]
     },
     "execution_count": 73,
     "metadata": {},
     "output_type": "execute_result"
    }
   ],
   "source": [
    "audi"
   ]
  },
  {
   "cell_type": "code",
   "execution_count": 74,
   "id": "6d2a1550-caac-4248-a38e-fc2fe1533534",
   "metadata": {},
   "outputs": [],
   "source": [
    "class car():\n",
    "    def __init__(self,window,door,engine):\n",
    "        self._windows=window\n",
    "        self._doors=door\n",
    "        self._enginetype=engine"
   ]
  },
  {
   "cell_type": "code",
   "execution_count": 75,
   "id": "320bc200-18c5-459a-9ffd-0445b707fe76",
   "metadata": {},
   "outputs": [],
   "source": [
    "audi=car(4,5,\"disel\")"
   ]
  },
  {
   "cell_type": "code",
   "execution_count": 77,
   "id": "dd114b61-3179-4617-854f-f7ca7d6557e4",
   "metadata": {},
   "outputs": [
    {
     "data": {
      "text/plain": [
       "'disel'"
      ]
     },
     "execution_count": 77,
     "metadata": {},
     "output_type": "execute_result"
    }
   ],
   "source": [
    "audi._enginetype"
   ]
  },
  {
   "cell_type": "code",
   "execution_count": 79,
   "id": "66e1c27f-ad53-45a3-8568-9aa58441af24",
   "metadata": {},
   "outputs": [
    {
     "data": {
      "text/plain": [
       "['__class__',\n",
       " '__delattr__',\n",
       " '__dict__',\n",
       " '__dir__',\n",
       " '__doc__',\n",
       " '__eq__',\n",
       " '__format__',\n",
       " '__ge__',\n",
       " '__getattribute__',\n",
       " '__gt__',\n",
       " '__hash__',\n",
       " '__init__',\n",
       " '__init_subclass__',\n",
       " '__le__',\n",
       " '__lt__',\n",
       " '__module__',\n",
       " '__ne__',\n",
       " '__new__',\n",
       " '__reduce__',\n",
       " '__reduce_ex__',\n",
       " '__repr__',\n",
       " '__setattr__',\n",
       " '__sizeof__',\n",
       " '__str__',\n",
       " '__subclasshook__',\n",
       " '__weakref__',\n",
       " '_doors',\n",
       " '_enginetype',\n",
       " '_windows']"
      ]
     },
     "execution_count": 79,
     "metadata": {},
     "output_type": "execute_result"
    }
   ],
   "source": [
    "dir(audi)"
   ]
  },
  {
   "cell_type": "code",
   "execution_count": 80,
   "id": "c22c7b17-6705-4a58-980f-f9b0f2e7d243",
   "metadata": {},
   "outputs": [],
   "source": [
    "class car():\n",
    "    def __init__(self,window,door,engine):\n",
    "        self.__windows=window\n",
    "        self.__doors=door\n",
    "        self.__enginetype=engine"
   ]
  },
  {
   "cell_type": "code",
   "execution_count": 81,
   "id": "8dacf1db-6bf8-45ff-a3aa-5a226e465bdf",
   "metadata": {},
   "outputs": [],
   "source": [
    "maru=car(2,3,\"petrol\")"
   ]
  },
  {
   "cell_type": "code",
   "execution_count": 82,
   "id": "c4209ee4-5415-4c1a-871c-94a3575f7c8f",
   "metadata": {},
   "outputs": [
    {
     "ename": "AttributeError",
     "evalue": "'car' object has no attribute '__doors'",
     "output_type": "error",
     "traceback": [
      "\u001b[1;31m---------------------------------------------------------------------------\u001b[0m",
      "\u001b[1;31mAttributeError\u001b[0m                            Traceback (most recent call last)",
      "\u001b[1;32m~\\AppData\\Local\\Temp\\ipykernel_2944\\248312399.py\u001b[0m in \u001b[0;36m<module>\u001b[1;34m\u001b[0m\n\u001b[1;32m----> 1\u001b[1;33m \u001b[0mmaru\u001b[0m\u001b[1;33m.\u001b[0m\u001b[0m__doors\u001b[0m\u001b[1;33m\u001b[0m\u001b[1;33m\u001b[0m\u001b[0m\n\u001b[0m",
      "\u001b[1;31mAttributeError\u001b[0m: 'car' object has no attribute '__doors'"
     ]
    }
   ],
   "source": [
    "maru.__doors"
   ]
  },
  {
   "cell_type": "code",
   "execution_count": 83,
   "id": "cad3cc3c-994f-4913-acd4-e7ad765b09b7",
   "metadata": {},
   "outputs": [
    {
     "data": {
      "text/plain": [
       "['__class__',\n",
       " '__delattr__',\n",
       " '__dict__',\n",
       " '__dir__',\n",
       " '__doc__',\n",
       " '__eq__',\n",
       " '__format__',\n",
       " '__ge__',\n",
       " '__getattribute__',\n",
       " '__gt__',\n",
       " '__hash__',\n",
       " '__init__',\n",
       " '__init_subclass__',\n",
       " '__le__',\n",
       " '__lt__',\n",
       " '__module__',\n",
       " '__ne__',\n",
       " '__new__',\n",
       " '__reduce__',\n",
       " '__reduce_ex__',\n",
       " '__repr__',\n",
       " '__setattr__',\n",
       " '__sizeof__',\n",
       " '__str__',\n",
       " '__subclasshook__',\n",
       " '__weakref__',\n",
       " '_car__doors',\n",
       " '_car__enginetype',\n",
       " '_car__windows']"
      ]
     },
     "execution_count": 83,
     "metadata": {},
     "output_type": "execute_result"
    }
   ],
   "source": [
    "dir(maru)"
   ]
  },
  {
   "cell_type": "code",
   "execution_count": 85,
   "id": "88ad0fd8-35fe-4f40-9789-264ea03099e6",
   "metadata": {},
   "outputs": [
    {
     "data": {
      "text/plain": [
       "3"
      ]
     },
     "execution_count": 85,
     "metadata": {},
     "output_type": "execute_result"
    }
   ],
   "source": [
    "maru._car__doors"
   ]
  },
  {
   "cell_type": "code",
   "execution_count": null,
   "id": "3b56258a-0821-4cfe-a00a-5af7510cf9e9",
   "metadata": {},
   "outputs": [],
   "source": []
  }
 ],
 "metadata": {
  "kernelspec": {
   "display_name": "Python 3 (ipykernel)",
   "language": "python",
   "name": "python3"
  },
  "language_info": {
   "codemirror_mode": {
    "name": "ipython",
    "version": 3
   },
   "file_extension": ".py",
   "mimetype": "text/x-python",
   "name": "python",
   "nbconvert_exporter": "python",
   "pygments_lexer": "ipython3",
   "version": "3.9.13"
  }
 },
 "nbformat": 4,
 "nbformat_minor": 5
}
